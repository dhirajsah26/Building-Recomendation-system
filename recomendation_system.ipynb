{
 "cells": [
  {
   "cell_type": "markdown",
   "metadata": {},
   "source": [
    "implicit vs. explicit data\n",
    "As mentioned in the video exercise, feedback used in recommendation engines can be explicit or implicit.\n",
    "\n",
    "The dataset listening_history_df has been loaded for you. This dataset contains columns identifying the users, the songs they listen to, along with:\n",
    "\n",
    "Skipped Track: A Boolean column recording whether the user skipped the song or listened to it to the end.\n",
    "Rating: The score out of 10 the user gave the song.\n",
    "In this exercise, you will explore the data and from this exploration identify which columns best reflect explicit feedback versus implicit feedback."
   ]
  },
  {
   "cell_type": "code",
   "execution_count": null,
   "metadata": {},
   "outputs": [],
   "source": [
    "# Inspect the listening_history_df DataFrame\n",
    "print(listening_history_df.head(5))\n",
    "\n",
    "# Calculate the number of unique values\n",
    "print(listening_history_df[['Rating', 'Skipped Track']].nunique())\n",
    "\n",
    "# Display a histogram of the values in the Rating column\n",
    "listening_history_df['Rating'].hist()\n",
    "plt.show()"
   ]
  },
  {
   "cell_type": "markdown",
   "metadata": {},
   "source": [
    "Introduction to non-personalized recommendations\n",
    "One of the most basic ways to make recommendations is to go with the knowledge of the crowd and recommend what is already the most popular. In this exercise, you will calculate how often each movie in the dataset has been watched and find the most frequently watched movies.\n",
    "\n",
    "The DataFrame user_ratings_df, which is a subset of the Movie Lens dataset, has been loaded for you. This table contains identifiers for each movie and the user who watched it, along with the rating they gave it.\n",
    "\n",
    "Instructions 1/2\n",
    "0 XP\n",
    "Calculate the number of times each movie occurs in the dataset.\n",
    "Print the titles of the top five most frequently seen movies."
   ]
  },
  {
   "cell_type": "code",
   "execution_count": null,
   "metadata": {
    "vscode": {
     "languageId": "plaintext"
    }
   },
   "outputs": [],
   "source": [
    "# Get the counts of occurrences of each movie title\n",
    "movie_popularity = user_ratings_df[\"title\"].value_counts()\n",
    "\n",
    "# Inspect the most common values\n",
    "print(movie_popularity.head().index)"
   ]
  },
  {
   "cell_type": "markdown",
   "metadata": {},
   "source": [
    "Improved non-personalized recommendations\n",
    "Just because a movie has been watched by a lot of people doesn't necessarily mean viewers enjoyed it. To understand how a viewer actually felt about a movie, more explicit data is useful. Thankfully, you also have ratings from each of the viewers in the Movie Lens dataset.\n",
    "\n",
    "In this exercise, you will find the average rating of each movie in the dataset, and then find the movie with the highest average rating.\n",
    "\n",
    "You will use the same user_ratings_df as you used in the previous exercise, which has been loaded for you.\n",
    "\n",
    "Instructions\n",
    "100 XP\n",
    "Find the average rating for each of the movies and store it as a DataFrame called average_rating_df.\n",
    "Sort the average_rating_df DataFrame by the average rating column from highest to lowest and store it as sorted_average_ratings.\n",
    "Print the entries for the top five highest ranked movies in sorted_average_ratings."
   ]
  },
  {
   "cell_type": "code",
   "execution_count": null,
   "metadata": {},
   "outputs": [],
   "source": [
    "# Find the mean of the ratings given to each title\n",
    "average_rating_df = user_ratings_df[[\"title\", \"rating\"]].groupby('title').mean()\n",
    "\n",
    "# Order the entries by highest average rating to lowest\n",
    "sorted_average_ratings = average_rating_df.sort_values(by='rating', ascending=False)\n",
    "\n",
    "# Inspect the top movies\n",
    "print(sorted_average_ratings.head())"
   ]
  },
  {
   "cell_type": "markdown",
   "metadata": {},
   "source": [
    "Combining popularity and reviews\n",
    "In the past two exercises, you have used the two most common non-personalized recommendation methods to find movies to suggest. As you may have noticed, they both have their weaknesses.\n",
    "\n",
    "Finding the most frequently watched movies will show you what has been watched, but not how people explicitly feel about it. However, finding the average of reviews has the opposite problem where we have customers' explicit feedback, but individual preferences are skewing the data.\n",
    "\n",
    "In this exercise, you will combine the two previous methods to find the average rating only for movies that have been reviewed more than 50 times.\n",
    "\n",
    "Instructions 1/3\n",
    "35 XP\n",
    "1\n",
    "2\n",
    "3\n",
    "Generate a list of the names of the movies appearing more than 50 times in user_ratings_df and store it as popular_movies."
   ]
  },
  {
   "cell_type": "code",
   "execution_count": null,
   "metadata": {},
   "outputs": [],
   "source": [
    "# Create a list of only the frequently watched movies\n",
    "movie_popularity = user_ratings_df[\"title\"].value_counts()\n",
    "popular_movies = movie_popularity[movie_popularity  > 50].index\n",
    "\n",
    "print(popular_movies)"
   ]
  },
  {
   "cell_type": "markdown",
   "metadata": {},
   "source": [
    "Filter the original user_ratings_df DataFrame by the popular_movies list to create a popular_movies_rankings DataFrame and print the results."
   ]
  },
  {
   "cell_type": "markdown",
   "metadata": {},
   "source": [
    "# Create a list of only movies appearing > 50 times in the dataset\n",
    "movie_popularity = user_ratings_df[\"title\"].value_counts()\n",
    "popular_movies = movie_popularity[movie_popularity > 50].index\n",
    "\n",
    "# Use this popular_movies list to filter the original DataFrame\n",
    "popular_movies_rankings = user_ratings_df[user_ratings_df[\"title\"].isin(popular_movies)]\n",
    "\n",
    "# Inspect the movies watched over 50 times\n",
    "print(popular_movies_rankings)"
   ]
  },
  {
   "cell_type": "markdown",
   "metadata": {},
   "source": [
    "Exercise\n",
    "Exercise\n",
    "Combining popularity and reviews\n",
    "In the past two exercises, you have used the two most common non-personalized recommendation methods to find movies to suggest. As you may have noticed, they both have their weaknesses.\n",
    "\n",
    "Finding the most frequently watched movies will show you what has been watched, but not how people explicitly feel about it. However, finding the average of reviews has the opposite problem where we have customers' explicit feedback, but individual preferences are skewing the data.\n",
    "\n",
    "In this exercise, you will combine the two previous methods to find the average rating only for movies that have been reviewed more than 50 times.\n",
    "\n",
    "Instructions 3/3\n",
    "30 XP\n",
    "3\n",
    "Find the average rating given to the frequently watched films in popular_movies_rankings and store it as popular_movies_average_rankings.\n",
    "Print the entries in popular_movies_average_rankings that contain the highest-ranked movies."
   ]
  },
  {
   "cell_type": "code",
   "execution_count": null,
   "metadata": {},
   "outputs": [],
   "source": [
    "# Create a list of only movies appearing > 50 times in the dataset\n",
    "movie_popularity = user_ratings_df[\"title\"].value_counts()\n",
    "popular_movies = movie_popularity[movie_popularity > 50].index\n",
    "\n",
    "# Use this popular_movies list to filter the original DataFrame\n",
    "popular_movies_rankings =  user_ratings_df[user_ratings_df[\"title\"].isin(popular_movies)]\n",
    "\n",
    "# Find the average rating given to these frequently watched films\n",
    "popular_movies_average_rankings = popular_movies_rankings[[\"title\", \"rating\"]].groupby('title').mean()\n",
    "print(popular_movies_average_rankings.sort_values(by=\"rating\", ascending=False).head())"
   ]
  },
  {
   "cell_type": "markdown",
   "metadata": {},
   "source": [
    "Finding all pairs of movies\n",
    "In this exercise, you will work through how to find all pairs of movies or all permutations of pairs of movies that have been watched by the same person.\n",
    "\n",
    "The user_ratings_df has been loaded once again containing users, and the movies they have seen.\n",
    "\n",
    "You will need to first create a function that finds all possible pairs of items in a list it is applied to. For ease of use, you will output the values of this as a DataFrame. Since you only want to find movies that have been seen by the same person and not all possible permutations, you will group by user_id when applying the function.\n",
    "\n",
    "Instructions 1/2\n",
    "50 XP\n",
    "1\n",
    "2\n",
    "Create a function called find_movie_pairs that finds all permutations of a Series, and stores the results as a DataFrame.\n",
    "Apply this function to the user_ratings_df DataFrame and print the results."
   ]
  },
  {
   "cell_type": "code",
   "execution_count": null,
   "metadata": {},
   "outputs": [],
   "source": [
    "from itertools import permutations\n",
    "\n",
    "# Create the function to find all permutations\n",
    "def find_movie_pairs(x):\n",
    "  pairs = pd.DataFrame(list(permutations(x.values, 2)),\n",
    "                       columns=['movie_a', 'movie_b'])\n",
    "  return pairs\n",
    "\n",
    "# Apply the function to the title column and reset the index\n",
    "movie_combinations = user_ratings_df.groupby('userId')['title'].apply(find_movie_pairs).reset_index(drop=True)\n",
    "\n",
    "print(movie_combinations)\n",
    "\n",
    "\n"
   ]
  },
  {
   "cell_type": "markdown",
   "metadata": {},
   "source": [
    "Counting up the pairs\n",
    "You can now create DataFrame of all the permutations of movies that have been watched by the same user. This is of limited use unless you can find which movies are most commonly paired.\n",
    "\n",
    "In this exercise, you will work with the movie_combinations DataFrame that you created in the last exercise (that has been loaded for you), and generate a new DataFrame containing the counts of occurrences of each of the pairs within.\n",
    "\n",
    "Instructions 1/2\n",
    "50 XP\n",
    "1\n",
    "2\n",
    "Find the number of times each pair of movies occurs and assign it to combination_counts."
   ]
  },
  {
   "cell_type": "code",
   "execution_count": null,
   "metadata": {},
   "outputs": [],
   "source": [
    "# Calculate how often each item in movies_a occurs with the items in movies_b\n",
    "combination_counts = movie_combinations.groupby(['movie_a', 'movie_b']).size()\n",
    "\n",
    "# Inspect the results\n",
    "print(combination_counts.head())"
   ]
  },
  {
   "cell_type": "markdown",
   "metadata": {},
   "source": [
    "Convert the resulting nested Series (combination_counts) to a DataFrame labeled combination_counts_df with the counted column named size.\n",
    "Reset the index for ease of reading."
   ]
  },
  {
   "cell_type": "code",
   "execution_count": null,
   "metadata": {},
   "outputs": [],
   "source": [
    "# Calculate how often each item in movie_a occurs with the items in movie_b\n",
    "combination_counts = movie_combinations.groupby(['movie_a', 'movie_b']).size()\n",
    "\n",
    "# Convert the results to a DataFrame and reset the index\n",
    "combination_counts_df = combination_counts.reset_index(name=\"size\").reset_index(drop=True)\n",
    "print(combination_counts_df.head())"
   ]
  },
  {
   "cell_type": "markdown",
   "metadata": {},
   "source": [
    "Making your first movie recommendations\n",
    "Now that you have found the most commonly paired movies, you can make your first recommendations!\n",
    "\n",
    "While you are not taking in any information about the person watching, and do not even know any details about the movie, valuable recommendations can still be made by examining what groups of movies are watched by the same people. In this exercise, you will examine the movies often watched by the same people that watched Thor, and then use this data to give a recommendation to someone who just watched the movie. The DataFrame you generated in the last lesson, combination_counts_df, that contains counts of how often movies are watched together has been loaded for you.\n",
    "\n",
    "Instructions\n",
    "100 XP\n",
    "Order the combination_counts_df object from largest to smallest by the size column.\n",
    "Find the newly ordered movie frequencies for the movie Thor by subsetting the ordered combination_counts_df object where movie_a is Thor assign them to thor_df and plot the results."
   ]
  },
  {
   "cell_type": "code",
   "execution_count": null,
   "metadata": {},
   "outputs": [],
   "source": [
    "import matplotlib.pyplot as plt\n",
    "\n",
    "# Sort the counts from highest to lowest\n",
    "combination_counts_df.sort_values('size', ascending=False, inplace=True)\n",
    "\n",
    "# Find the movies most frequently watched by people who watched Thor\n",
    "thor_df = combination_counts_df[combination_counts_df['movie_a'] == 'Thor']\n",
    "\n",
    "# Plot the results\n",
    "thor_df.plot.bar(x=\"movie_b\")\n",
    "plt.show()"
   ]
  }
 ],
 "metadata": {
  "language_info": {
   "name": "python"
  },
  "orig_nbformat": 4
 },
 "nbformat": 4,
 "nbformat_minor": 2
}
