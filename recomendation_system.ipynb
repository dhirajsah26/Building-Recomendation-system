{
 "cells": [
  {
   "cell_type": "markdown",
   "metadata": {},
   "source": [
    "implicit vs. explicit data\n",
    "As mentioned in the video exercise, feedback used in recommendation engines can be explicit or implicit.\n",
    "\n",
    "The dataset listening_history_df has been loaded for you. This dataset contains columns identifying the users, the songs they listen to, along with:\n",
    "\n",
    "Skipped Track: A Boolean column recording whether the user skipped the song or listened to it to the end.\n",
    "Rating: The score out of 10 the user gave the song.\n",
    "In this exercise, you will explore the data and from this exploration identify which columns best reflect explicit feedback versus implicit feedback."
   ]
  },
  {
   "cell_type": "code",
   "execution_count": null,
   "metadata": {},
   "outputs": [],
   "source": [
    "# Inspect the listening_history_df DataFrame\n",
    "print(listening_history_df.head(5))\n",
    "\n",
    "# Calculate the number of unique values\n",
    "print(listening_history_df[['Rating', 'Skipped Track']].value_counts())\n",
    "\n",
    "# Display a histogram of the values in the Rating column\n",
    "listening_history_df['Rating'].hist()\n",
    "plt.show()"
   ]
  }
 ],
 "metadata": {
  "language_info": {
   "name": "python"
  },
  "orig_nbformat": 4
 },
 "nbformat": 4,
 "nbformat_minor": 2
}
